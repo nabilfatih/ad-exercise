{
 "cells": [
  {
   "cell_type": "code",
   "execution_count": 1,
   "metadata": {},
   "outputs": [
    {
     "name": "stdout",
     "output_type": "stream",
     "text": [
      "GCD of 30 and 20 is 10\n",
      "GCD of 30 and 20 is 10\n"
     ]
    }
   ],
   "source": [
    "x = 30\n",
    "y = 20\n",
    "\n",
    "def gcdIterative(a, b):\n",
    "    while b != 0:\n",
    "        temp = b;\n",
    "        b = a % b;\n",
    "        a = temp;\n",
    "    return a;\n",
    "\n",
    "def gcdRecursive(a, b):\n",
    "    if b == 0:\n",
    "        return a;\n",
    "    else:\n",
    "        return gcdRecursive(b, a % b);\n",
    "\n",
    "# When to use which gcd function?\n",
    "# - Iterative: straight forward, no risk of stack overflow (it doesn't add new layers to the call stack)\n",
    "# - Recursive: elegant, more closer to mathematical definition, but risk of stack overflow (it adds new layers to the call stack)\n",
    "\n",
    "print(\"GCD of\", x, \"and\", y, \"is\", gcdIterative(x, y));\n",
    "\n",
    "print(\"GCD of\", x, \"and\", y, \"is\", gcdRecursive(x, y));"
   ]
  },
  {
   "cell_type": "code",
   "execution_count": 2,
   "metadata": {},
   "outputs": [
    {
     "name": "stdout",
     "output_type": "stream",
     "text": [
      "LCM of 30 and 20 is 60.0\n",
      "Product of 30 and 20 is 600\n"
     ]
    }
   ],
   "source": [
    "# lcm = least common multiple\n",
    "# lcm formula: lcm(a, b) = (a * b) / gcd(a, b)\n",
    "def lcm(a, b):\n",
    "    return (a * b) / gcdIterative(a, b);\n",
    "\n",
    "print(\"LCM of\", x, \"and\", y, \"is\", lcm(x, y));\n",
    "\n",
    "print(\"Product of\", x, \"and\", y, \"is\", x * y);"
   ]
  },
  {
   "cell_type": "markdown",
   "metadata": {},
   "source": [
    "There is a relationship between gcd and lcm\n",
    "\n",
    "lcm(a, b) = (a * b) / gcd(a, b)\n",
    "\n",
    "lcm(a, b) * gcd(a, b) = (a * b)\n",
    "\n",
    "lcm * gcd = a * b\n",
    "\n",
    "So, a * b = lcm * gcd"
   ]
  }
 ],
 "metadata": {
  "kernelspec": {
   "display_name": "Python 3",
   "language": "python",
   "name": "python3"
  },
  "language_info": {
   "codemirror_mode": {
    "name": "ipython",
    "version": 3
   },
   "file_extension": ".py",
   "mimetype": "text/x-python",
   "name": "python",
   "nbconvert_exporter": "python",
   "pygments_lexer": "ipython3",
   "version": "3.9.6"
  }
 },
 "nbformat": 4,
 "nbformat_minor": 2
}
